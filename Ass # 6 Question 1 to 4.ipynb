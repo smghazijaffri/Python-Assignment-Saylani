{
 "cells": [
  {
   "cell_type": "code",
   "execution_count": null,
   "metadata": {},
   "outputs": [],
   "source": [
    "#Question 1: Define Object Oriented Programming Language? \n",
    "\n",
    "#Answer: Object Oriented Programming allows for simplified programming. It is a software programming model constructed around objects. It allows programmers to define the data type of a data structure and also the types of operations (functions) that can be applied to the data structure. The data structure becomes an object that includes both data and functions. In addition, programmers can create relationships between one object and another. For example, objects can inherit characteristics from other objects. Its features include Encapsulation, Polymorphism and Inheritance. \n",
    "\n",
    " \n",
    "\n",
    "#Question 2: List down the Benefits of Object Oriented Programming. \n",
    "\n",
    "#Answer: Some benefits of Object Oriented Programming are Reusability, Refactoring, Extensibility, Maintenance, Efficiency, Modularity for easier troubleshooting, Flexibility through polymorphism and Effective problem solving. \n",
    "\n",
    " \n",
    "\n",
    "#Question 3: Differentiate between function and method? \n",
    "\n",
    "#Answer: A function is a piece of code that is called by name. It can be passed data to operate on (example: the parameters) and can optionally return data (the return value). All data that is passed to a function is explicitly passed. \n",
    "\n",
    "#A method is a piece of code that is called by a name that is associated with an object. In most respects it is identical to a function except for two key differences: \n",
    "\n",
    "#A method is implicitly passed the object on which it was called. \n",
    "\n",
    "#A method is able to operate on data that is contained within the class (remembering that an object is an instance of a class - the class is the definition, the object is an instance of that data). \n",
    "\n",
    " \n",
    "\n",
    "#Question 4: Define the following terms: \n",
    "\n",
    "#1. Class \t2. Object \t3. Attribute\t\t4. Behavior \n",
    "\n",
    "#Answer: 1. A class describes the contents of the objects that belong to it. It describes an aggregate of data fields (called instance variables), and defines the operations (called methods). \n",
    "\n",
    "#2. An object is an element (or instance) of a class. Objects have the behaviors of their class. The object is the actual component of programs, while the class specifies how instances are created and how they behave. \n",
    "\n",
    "#3. A method is an action which an object is able to perform. \n",
    "\n",
    "#4. The behavior of an object is defined by its methods, which are the functions and subroutines defined within the object class. Without class methods, a class would simply be a structure. "
   ]
  }
 ],
 "metadata": {
  "kernelspec": {
   "display_name": "Python 3",
   "language": "python",
   "name": "python3"
  },
  "language_info": {
   "codemirror_mode": {
    "name": "ipython",
    "version": 3
   },
   "file_extension": ".py",
   "mimetype": "text/x-python",
   "name": "python",
   "nbconvert_exporter": "python",
   "pygments_lexer": "ipython3",
   "version": "3.7.4"
  }
 },
 "nbformat": 4,
 "nbformat_minor": 2
}
