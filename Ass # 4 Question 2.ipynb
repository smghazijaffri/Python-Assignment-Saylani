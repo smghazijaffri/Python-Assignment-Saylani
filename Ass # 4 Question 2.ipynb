{
 "cells": [
  {
   "cell_type": "code",
   "execution_count": 12,
   "metadata": {},
   "outputs": [
    {
     "name": "stdout",
     "output_type": "stream",
     "text": [
      "The City's Name:  Karachi\n",
      "The Information:  {'Population': '14.91 million', 'Fact': 'Largest city of Pakistan', 'Country': 'Pakistan'} \n",
      "\n",
      "The City's Name:  Lahore\n",
      "The Information:  {'Population': '2.141 million', 'Fact': 'It was capital of the Sikh Empire of the early 19th century.', 'Country': 'Pakistan'} \n",
      "\n",
      "The City's Name:  Peshawar\n",
      "The Information:  {'Population': '1.97 million', 'Fact': 'it is one of the oldest city of Pakistan', 'Country': 'Pakistan'} \n",
      "\n"
     ]
    }
   ],
   "source": [
    "cities = {\n",
    "    \"Karachi\": {\n",
    "        \"Population\": \"14.91 million\",\n",
    "        \"Fact\": \"Largest city of Pakistan\",\n",
    "        \"Country\": \"Pakistan\"\n",
    "    },\n",
    "    \"Lahore\": {\n",
    "        \"Population\": \"2.141 million\",\n",
    "        \"Fact\": \"It was capital of the Sikh Empire of the early 19th century.\",\n",
    "        \"Country\": \"Pakistan\"\n",
    "    },\n",
    "    \"Peshawar\": {\n",
    "        \"Population\": \"1.97 million\",\n",
    "        \"Fact\": \"it is one of the oldest city of Pakistan\",\n",
    "        \"Country\": \"Pakistan\"\n",
    "    }\n",
    "}\n",
    "for key,value in cities.items():\n",
    "    print(\"The City's Name: \",key)\n",
    "    print(\"The Information: \",value,\"\\n\")"
   ]
  },
  {
   "cell_type": "code",
   "execution_count": null,
   "metadata": {},
   "outputs": [],
   "source": []
  }
 ],
 "metadata": {
  "kernelspec": {
   "display_name": "Python 3",
   "language": "python",
   "name": "python3"
  },
  "language_info": {
   "codemirror_mode": {
    "name": "ipython",
    "version": 3
   },
   "file_extension": ".py",
   "mimetype": "text/x-python",
   "name": "python",
   "nbconvert_exporter": "python",
   "pygments_lexer": "ipython3",
   "version": "3.7.4"
  }
 },
 "nbformat": 4,
 "nbformat_minor": 2
}
