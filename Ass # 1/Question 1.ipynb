{
 "cells": [
  {
   "cell_type": "code",
   "execution_count": 3,
   "metadata": {
    "scrolled": false
   },
   "outputs": [
    {
     "name": "stdout",
     "output_type": "stream",
     "text": [
      "Twinkle, twinkle little star\n",
      " \n",
      "\tHow I wonder what you are!\n",
      "\n",
      "\t\t Up above the world so high,\n",
      "\n",
      "\t\t Like a diamond in the sky.\n",
      "Twinkle, twinkle little star,\n",
      "\n",
      "\tHow I wonder what you are\n",
      "\n"
     ]
    }
   ],
   "source": [
    "print(\"Twinkle, twinkle little star\")\n",
    "print(\" \\n\\tHow I wonder what you are!\")\n",
    "print(\"\\n\\t\\t Up above the world so high,\")\n",
    "print(\"\\n\\t\\t Like a diamond in the sky.\")\n",
    "print(\"Twinkle, twinkle little star,\")\n",
    "print(\"\\n\\tHow I wonder what you are\")\n",
    "print()"
   ]
  }
 ],
 "metadata": {
  "kernelspec": {
   "display_name": "Python 3",
   "language": "python",
   "name": "python3"
  },
  "language_info": {
   "codemirror_mode": {
    "name": "ipython",
    "version": 3
   },
   "file_extension": ".py",
   "mimetype": "text/x-python",
   "name": "python",
   "nbconvert_exporter": "python",
   "pygments_lexer": "ipython3",
   "version": "3.7.4"
  }
 },
 "nbformat": 4,
 "nbformat_minor": 2
}
