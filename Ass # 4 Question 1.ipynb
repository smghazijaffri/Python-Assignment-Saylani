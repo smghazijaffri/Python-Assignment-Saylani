{
 "cells": [
  {
   "cell_type": "code",
   "execution_count": 2,
   "metadata": {},
   "outputs": [
    {
     "name": "stdout",
     "output_type": "stream",
     "text": [
      "Ghazi\n",
      "Jaffri\n",
      "20\n",
      "Karachi\n",
      "\n",
      "Enter your Qualification: Alevels\n",
      "\n",
      "Dictionary after add new key\n",
      "\n",
      "\n",
      " {'first_name': 'Ghazi', 'last_name': 'Jaffri', 'age': 20, 'city': 'Karachi', 'Qualification': 'Alevels'}\n",
      "\n",
      "Enter your Higher Academic Level: Alevels\n",
      "\n",
      "Dictionary after update\n",
      "\n",
      "\n",
      " {'first_name': 'Ghazi', 'last_name': 'Jaffri', 'age': 20, 'city': 'Karachi', 'Qualification': 'Alevels'}\n",
      "\n",
      "Dictionary after delete\n",
      "\n",
      "\n",
      " {'first_name': 'Ghazi', 'last_name': 'Jaffri', 'age': 20, 'city': 'Karachi'}\n"
     ]
    }
   ],
   "source": [
    "person = {\n",
    "    'first_name': 'Ghazi',\n",
    "    'last_name': 'Jaffri',\n",
    "    'age': 20,\n",
    "    'city': 'Karachi',\n",
    "    }\n",
    "\n",
    "print(person['first_name'])\n",
    "print(person['last_name'])\n",
    "print(person['age'])\n",
    "print(person['city'])\n",
    "add = input(\"\\nEnter your Qualification: \")\n",
    "person[\"Qualification\"] = add\n",
    "print(\"\\nDictionary after add new key\\n\")\n",
    "print(\"\\n\",person)\n",
    "update = input(\"\\nEnter your Higher Academic Level: \")\n",
    "person[\"Qualification\"] = update\n",
    "print(\"\\nDictionary after update\\n\")\n",
    "print(\"\\n\",person)\n",
    "del person[\"Qualification\"]\n",
    "print(\"\\nDictionary after delete\\n\")\n",
    "print(\"\\n\",person)"
   ]
  },
  {
   "cell_type": "code",
   "execution_count": null,
   "metadata": {},
   "outputs": [],
   "source": []
  }
 ],
 "metadata": {
  "kernelspec": {
   "display_name": "Python 3",
   "language": "python",
   "name": "python3"
  },
  "language_info": {
   "codemirror_mode": {
    "name": "ipython",
    "version": 3
   },
   "file_extension": ".py",
   "mimetype": "text/x-python",
   "name": "python",
   "nbconvert_exporter": "python",
   "pygments_lexer": "ipython3",
   "version": "3.7.4"
  }
 },
 "nbformat": 4,
 "nbformat_minor": 2
}
