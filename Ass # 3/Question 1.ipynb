{
 "cells": [
  {
   "cell_type": "code",
   "execution_count": 11,
   "metadata": {},
   "outputs": [
    {
     "name": "stdout",
     "output_type": "stream",
     "text": [
      "Enter first value 2\n",
      "Enter second value 3\n",
      "Enter Operator/\n",
      "0.6666666666666666 answer\n"
     ]
    }
   ],
   "source": [
    "val1 = input('Enter first value ')\n",
    "val2 = input('Enter second value ')\n",
    "operator = input('Enter Operator')\n",
    "val1 = int(val1)\n",
    "val2= int(val2)\n",
    "\n",
    "if operator == '+':\n",
    "    val = val1 + val2\n",
    "    print(val,'answer')\n",
    "elif operator == '-' :\n",
    "    val = val1 - val2\n",
    "    print(val,'answer')\n",
    "elif operator == '*' :\n",
    "    val = val1 * val2\n",
    "    print(val,'answer')\n",
    "elif operator == '/' :\n",
    "    val = val1 / val2\n",
    "    print(val,'answer')\n",
    "elif operator == '**' :\n",
    "    val = val1 ** val2\n",
    "    print(val,'answer')\n",
    "else:\n",
    "    print('Enter Correct Operator')"
   ]
  },
  {
   "cell_type": "code",
   "execution_count": null,
   "metadata": {},
   "outputs": [],
   "source": []
  }
 ],
 "metadata": {
  "kernelspec": {
   "display_name": "Python 3",
   "language": "python",
   "name": "python3"
  },
  "language_info": {
   "codemirror_mode": {
    "name": "ipython",
    "version": 3
   },
   "file_extension": ".py",
   "mimetype": "text/x-python",
   "name": "python",
   "nbconvert_exporter": "python",
   "pygments_lexer": "ipython3",
   "version": "3.7.4"
  }
 },
 "nbformat": 4,
 "nbformat_minor": 2
}
