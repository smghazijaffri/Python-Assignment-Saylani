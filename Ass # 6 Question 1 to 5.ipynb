{
 "cells": [
  {
   "cell_type": "code",
   "execution_count": 1,
   "metadata": {},
   "outputs": [
    {
     "name": "stdout",
     "output_type": "stream",
     "text": [
      "Question 1: Define Object Oriented Programming Language?\n"
     ]
    }
   ],
   "source": [
    "print(\"Question 1: Define Object Oriented Programming Language?\")"
   ]
  },
  {
   "cell_type": "markdown",
   "metadata": {},
   "source": [
    "Answer: Object Oriented Programming allows for simplified programming. It is a software programming model constructed around objects. It allows programmers to define the data type of a data structure and also the types of operations (functions) that can be applied to the data structure. The data structure becomes an object that includes both data and functions. In addition, programmers can create relationships between one object and another. For example, objects can inherit characteristics from other objects. Its features include Encapsulation, Polymorphism and Inheritance. "
   ]
  },
  {
   "cell_type": "code",
   "execution_count": 2,
   "metadata": {},
   "outputs": [
    {
     "name": "stdout",
     "output_type": "stream",
     "text": [
      "Question 2: List down the Benefits of Object Oriented Programming.\n"
     ]
    }
   ],
   "source": [
    "print(\"Question 2: List down the Benefits of Object Oriented Programming.\")"
   ]
  },
  {
   "cell_type": "markdown",
   "metadata": {},
   "source": [
    "Answer: Some benefits of Object Oriented Programming are Reusability, Refactoring, Extensibility, Maintenance, Efficiency, Modularity for easier troubleshooting, Flexibility through polymorphism and Effective problem solving. "
   ]
  },
  {
   "cell_type": "code",
   "execution_count": 3,
   "metadata": {},
   "outputs": [
    {
     "name": "stdout",
     "output_type": "stream",
     "text": [
      "Question 3: Differentiate between function and method?\n"
     ]
    }
   ],
   "source": [
    "print(\"Question 3: Differentiate between function and method?\")"
   ]
  },
  {
   "cell_type": "markdown",
   "metadata": {},
   "source": [
    "Answer: A function is a piece of code that is called by name. It can be passed data to operate on (example: the parameters) and can optionally return data (the return value). All data that is passed to a function is explicitly passed. \n",
    "\n",
    "A method is a piece of code that is called by a name that is associated with an object. In most respects it is identical to a function except for two key differences: \n",
    "\n",
    "A method is implicitly passed the object on which it was called. \n",
    "\n",
    "A method is able to operate on data that is contained within the class (remembering that an object is an instance of a class - the class is the definition, the object is an instance of that data). "
   ]
  },
  {
   "cell_type": "code",
   "execution_count": 6,
   "metadata": {
    "scrolled": true
   },
   "outputs": [
    {
     "name": "stdout",
     "output_type": "stream",
     "text": [
      "Question 4: Define the following terms:\n",
      "1. Class   2. Object   3. Attribute   4. Behavior\n"
     ]
    }
   ],
   "source": [
    "print(\"Question 4: Define the following terms:\") \n",
    "print(\"1. Class   2. Object   3. Attribute   4. Behavior\")"
   ]
  },
  {
   "cell_type": "markdown",
   "metadata": {},
   "source": [
    "Answer: \n",
    "1. A class describes the contents of the objects that belong to it. It describes an aggregate of data fields (called instance variables), and defines the operations (called methods). \n",
    "\n",
    "2. An object is an element (or instance) of a class. Objects have the behaviors of their class. The object is the actual component of programs, while the class specifies how instances are created and how they behave. \n",
    "\n",
    "3. A method is an action which an object is able to perform. \n",
    "\n",
    "4. The behavior of an object is defined by its methods, which are the functions and subroutines defined within the object class. Without class methods, a class would simply be a structure. "
   ]
  },
  {
   "cell_type": "code",
   "execution_count": 9,
   "metadata": {},
   "outputs": [
    {
     "name": "stdout",
     "output_type": "stream",
     "text": [
      "Aventadoor\n",
      "SVJ\n",
      "White\n",
      "2017\n",
      "1200\n",
      "Nissan Old Company Name\n",
      "Lamborghini Modified Name\n",
      "\n",
      "\n",
      "GTR\n",
      "Nismo\n",
      "Black\n",
      "2006 Old Year\n",
      "950\n",
      "Nissan\n",
      "2010 new year\n",
      "\n",
      "\n",
      "Cybertruck\n",
      "Dual Motor\n",
      "Grey\n",
      "2022\n",
      "800\n",
      "Nissan Old Company Name\n",
      "Tesla Modified Name\n",
      "\n",
      "\n",
      "350Z\n",
      "Nismo\n",
      "Red\n",
      "2015\n",
      "600\n",
      "Nissan\n",
      "\n",
      "\n",
      "Roadster\n",
      "Triple Motor\n",
      "Blue\n",
      "2021\n",
      "1242\n",
      "Nissan Old Company Name\n",
      "Tesla Modified Name\n",
      "\n",
      "\n",
      "<__main__.Car object at 0x000001FD2EE77F48>\n",
      "<__main__.Car object at 0x000001FD30B8EC48>\n",
      "<__main__.Car object at 0x000001FD30B90B48>\n",
      "<__main__.Car object at 0x000001FD2F020F88>\n",
      "<__main__.Car object at 0x000001FD30B901C8>\n"
     ]
    }
   ],
   "source": [
    "#Question 5:\n",
    "#Write a code in python in which create a class named it Car which\n",
    "#have 5 attributes such like (model, color and name etc.) and 3\n",
    "#methods. And create 5 object instance from that class.\n",
    "\n",
    "\n",
    "\n",
    "#class\n",
    "class Car():\n",
    "    ##instantiation method\n",
    "    def __init__(car,name,model,colour,year,hp):\n",
    "        \n",
    "        ##attributes and attributes name\n",
    "        car.name = name\n",
    "        car.model = model\n",
    "        car.colour = colour\n",
    "        car.year = year\n",
    "        car.hp = hp\n",
    "        ##default attribute\n",
    "        car.compName = 'Nissan'\n",
    "        \n",
    "    def updateComp(car,newName):\n",
    "        car.compName = newName\n",
    "        \n",
    "    def updateYear(car,newYear):\n",
    "        car.year = newYear\n",
    "        \n",
    "##instance\n",
    "Car1 = Car('Aventadoor','SVJ','White',2017,1200)\n",
    "print(Car1.name)\n",
    "print(Car1.model)\n",
    "print(Car1.colour)\n",
    "print(Car1.year)\n",
    "print(Car1.hp)\n",
    "print(Car1.compName,'Old Company Name')\n",
    "Car1.updateComp('Lamborghini')\n",
    "print(Car1.compName,'Modified Name')\n",
    "print('\\n')\n",
    "##new instance of Car 2\n",
    "Car2 = Car('GTR','Nismo','Black',2006,950)\n",
    "print(Car2.name)\n",
    "print(Car2.model)\n",
    "print(Car2.colour)\n",
    "print(Car2.year,'Old Year')\n",
    "print(Car2.hp)\n",
    "print(Car2.compName)\n",
    "Car2.updateYear(2010)\n",
    "print(Car2.year,'new year')\n",
    "print('\\n')\n",
    "##new instance of Car3\n",
    "Car3 = Car('Cybertruck','Dual Motor','Grey',2022,800)\n",
    "print(Car3.name)\n",
    "print(Car3.model)\n",
    "print(Car3.colour)\n",
    "print(Car3.year)\n",
    "print(Car3.hp)\n",
    "print(Car3.compName,'Old Company Name')\n",
    "Car3.updateComp('Tesla')\n",
    "print(Car3.compName,'Modified Name')\n",
    "print('\\n')\n",
    "##new instance of Car4\n",
    "Car4 = Car('350Z','Nismo','Red',2015,600)\n",
    "print(Car4.name)\n",
    "print(Car4.model)\n",
    "print(Car4.colour)\n",
    "print(Car4.year)\n",
    "print(Car4.hp)\n",
    "print(Car4.compName)\n",
    "print('\\n')\n",
    "##new instance of Car5\n",
    "Car5 = Car('Roadster','Triple Motor','Blue',2021,1242)\n",
    "print(Car5.name)\n",
    "print(Car5.model)\n",
    "print(Car5.colour)\n",
    "print(Car5.year)\n",
    "print(Car5.hp)\n",
    "print(Car5.compName,'Old Company Name')\n",
    "Car5.updateComp('Tesla')\n",
    "print(Car5.compName,'Modified Name')\n",
    "print('\\n')\n",
    "print(Car1)\n",
    "print(Car2)\n",
    "print(Car3)\n",
    "print(Car4)\n",
    "print(Car5)"
   ]
  },
  {
   "cell_type": "code",
   "execution_count": null,
   "metadata": {},
   "outputs": [],
   "source": []
  }
 ],
 "metadata": {
  "kernelspec": {
   "display_name": "Python 3",
   "language": "python",
   "name": "python3"
  },
  "language_info": {
   "codemirror_mode": {
    "name": "ipython",
    "version": 3
   },
   "file_extension": ".py",
   "mimetype": "text/x-python",
   "name": "python",
   "nbconvert_exporter": "python",
   "pygments_lexer": "ipython3",
   "version": "3.7.4"
  }
 },
 "nbformat": 4,
 "nbformat_minor": 2
}
